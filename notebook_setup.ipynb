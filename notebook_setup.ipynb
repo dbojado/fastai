{
  "nbformat": 4,
  "nbformat_minor": 0,
  "metadata": {
    "colab": {
      "name": "Untitled0.ipynb",
      "provenance": [],
      "authorship_tag": "ABX9TyNY+zK7HNpmwJPmsEcnirTb",
      "include_colab_link": true
    },
    "kernelspec": {
      "name": "python3",
      "display_name": "Python 3"
    },
    "language_info": {
      "name": "python"
    },
    "accelerator": "GPU"
  },
  "cells": [
    {
      "cell_type": "markdown",
      "metadata": {
        "id": "view-in-github",
        "colab_type": "text"
      },
      "source": [
        "<a href=\"https://colab.research.google.com/github/dbojado/fastai/blob/main/notebook_setup.ipynb\" target=\"_parent\"><img src=\"https://colab.research.google.com/assets/colab-badge.svg\" alt=\"Open In Colab\"/></a>"
      ]
    },
    {
      "cell_type": "code",
      "metadata": {
        "colab": {
          "base_uri": "https://localhost:8080/"
        },
        "id": "aq4thlZHmB9J",
        "outputId": "326fde29-84c3-4d73-8535-ce0d1d532af4"
      },
      "source": [
        "!pip install -Uqq fastbook\n",
        "import fastbook\n",
        "fastbook.setup_book()"
      ],
      "execution_count": null,
      "outputs": [
        {
          "output_type": "stream",
          "text": [
            "\u001b[?25l\r\u001b[K     |▌                               | 10kB 24.0MB/s eta 0:00:01\r\u001b[K     |█                               | 20kB 30.9MB/s eta 0:00:01\r\u001b[K     |█▍                              | 30kB 21.9MB/s eta 0:00:01\r\u001b[K     |█▉                              | 40kB 25.5MB/s eta 0:00:01\r\u001b[K     |██▎                             | 51kB 24.2MB/s eta 0:00:01\r\u001b[K     |██▊                             | 61kB 26.8MB/s eta 0:00:01\r\u001b[K     |███▏                            | 71kB 17.9MB/s eta 0:00:01\r\u001b[K     |███▋                            | 81kB 18.9MB/s eta 0:00:01\r\u001b[K     |████                            | 92kB 17.3MB/s eta 0:00:01\r\u001b[K     |████▌                           | 102kB 17.4MB/s eta 0:00:01\r\u001b[K     |█████                           | 112kB 17.4MB/s eta 0:00:01\r\u001b[K     |█████▌                          | 122kB 17.4MB/s eta 0:00:01\r\u001b[K     |██████                          | 133kB 17.4MB/s eta 0:00:01\r\u001b[K     |██████▍                         | 143kB 17.4MB/s eta 0:00:01\r\u001b[K     |██████▉                         | 153kB 17.4MB/s eta 0:00:01\r\u001b[K     |███████▎                        | 163kB 17.4MB/s eta 0:00:01\r\u001b[K     |███████▊                        | 174kB 17.4MB/s eta 0:00:01\r\u001b[K     |████████▏                       | 184kB 17.4MB/s eta 0:00:01\r\u001b[K     |████████▋                       | 194kB 17.4MB/s eta 0:00:01\r\u001b[K     |█████████                       | 204kB 17.4MB/s eta 0:00:01\r\u001b[K     |█████████▋                      | 215kB 17.4MB/s eta 0:00:01\r\u001b[K     |██████████                      | 225kB 17.4MB/s eta 0:00:01\r\u001b[K     |██████████▌                     | 235kB 17.4MB/s eta 0:00:01\r\u001b[K     |███████████                     | 245kB 17.4MB/s eta 0:00:01\r\u001b[K     |███████████▍                    | 256kB 17.4MB/s eta 0:00:01\r\u001b[K     |███████████▉                    | 266kB 17.4MB/s eta 0:00:01\r\u001b[K     |████████████▎                   | 276kB 17.4MB/s eta 0:00:01\r\u001b[K     |████████████▊                   | 286kB 17.4MB/s eta 0:00:01\r\u001b[K     |█████████████▏                  | 296kB 17.4MB/s eta 0:00:01\r\u001b[K     |█████████████▋                  | 307kB 17.4MB/s eta 0:00:01\r\u001b[K     |██████████████                  | 317kB 17.4MB/s eta 0:00:01\r\u001b[K     |██████████████▋                 | 327kB 17.4MB/s eta 0:00:01\r\u001b[K     |███████████████                 | 337kB 17.4MB/s eta 0:00:01\r\u001b[K     |███████████████▌                | 348kB 17.4MB/s eta 0:00:01\r\u001b[K     |████████████████                | 358kB 17.4MB/s eta 0:00:01\r\u001b[K     |████████████████▍               | 368kB 17.4MB/s eta 0:00:01\r\u001b[K     |████████████████▉               | 378kB 17.4MB/s eta 0:00:01\r\u001b[K     |█████████████████▎              | 389kB 17.4MB/s eta 0:00:01\r\u001b[K     |█████████████████▊              | 399kB 17.4MB/s eta 0:00:01\r\u001b[K     |██████████████████▏             | 409kB 17.4MB/s eta 0:00:01\r\u001b[K     |██████████████████▋             | 419kB 17.4MB/s eta 0:00:01\r\u001b[K     |███████████████████▏            | 430kB 17.4MB/s eta 0:00:01\r\u001b[K     |███████████████████▋            | 440kB 17.4MB/s eta 0:00:01\r\u001b[K     |████████████████████            | 450kB 17.4MB/s eta 0:00:01\r\u001b[K     |████████████████████▌           | 460kB 17.4MB/s eta 0:00:01\r\u001b[K     |█████████████████████           | 471kB 17.4MB/s eta 0:00:01\r\u001b[K     |█████████████████████▍          | 481kB 17.4MB/s eta 0:00:01\r\u001b[K     |█████████████████████▉          | 491kB 17.4MB/s eta 0:00:01\r\u001b[K     |██████████████████████▎         | 501kB 17.4MB/s eta 0:00:01\r\u001b[K     |██████████████████████▊         | 512kB 17.4MB/s eta 0:00:01\r\u001b[K     |███████████████████████▏        | 522kB 17.4MB/s eta 0:00:01\r\u001b[K     |███████████████████████▋        | 532kB 17.4MB/s eta 0:00:01\r\u001b[K     |████████████████████████▏       | 542kB 17.4MB/s eta 0:00:01\r\u001b[K     |████████████████████████▋       | 552kB 17.4MB/s eta 0:00:01\r\u001b[K     |█████████████████████████       | 563kB 17.4MB/s eta 0:00:01\r\u001b[K     |█████████████████████████▌      | 573kB 17.4MB/s eta 0:00:01\r\u001b[K     |██████████████████████████      | 583kB 17.4MB/s eta 0:00:01\r\u001b[K     |██████████████████████████▍     | 593kB 17.4MB/s eta 0:00:01\r\u001b[K     |██████████████████████████▉     | 604kB 17.4MB/s eta 0:00:01\r\u001b[K     |███████████████████████████▎    | 614kB 17.4MB/s eta 0:00:01\r\u001b[K     |███████████████████████████▊    | 624kB 17.4MB/s eta 0:00:01\r\u001b[K     |████████████████████████████▏   | 634kB 17.4MB/s eta 0:00:01\r\u001b[K     |████████████████████████████▊   | 645kB 17.4MB/s eta 0:00:01\r\u001b[K     |█████████████████████████████▏  | 655kB 17.4MB/s eta 0:00:01\r\u001b[K     |█████████████████████████████▋  | 665kB 17.4MB/s eta 0:00:01\r\u001b[K     |██████████████████████████████  | 675kB 17.4MB/s eta 0:00:01\r\u001b[K     |██████████████████████████████▌ | 686kB 17.4MB/s eta 0:00:01\r\u001b[K     |███████████████████████████████ | 696kB 17.4MB/s eta 0:00:01\r\u001b[K     |███████████████████████████████▍| 706kB 17.4MB/s eta 0:00:01\r\u001b[K     |███████████████████████████████▉| 716kB 17.4MB/s eta 0:00:01\r\u001b[K     |████████████████████████████████| 727kB 17.4MB/s \n",
            "\u001b[K     |████████████████████████████████| 51kB 8.4MB/s \n",
            "\u001b[K     |████████████████████████████████| 204kB 55.9MB/s \n",
            "\u001b[K     |████████████████████████████████| 1.2MB 55.3MB/s \n",
            "\u001b[K     |████████████████████████████████| 61kB 9.4MB/s \n",
            "\u001b[K     |████████████████████████████████| 51kB 7.8MB/s \n",
            "\u001b[?25hMounted at /content/gdrive\n"
          ],
          "name": "stdout"
        }
      ]
    },
    {
      "cell_type": "code",
      "metadata": {
        "id": "PO-vSJPTmmk8"
      },
      "source": [
        "from fastbook import *"
      ],
      "execution_count": null,
      "outputs": []
    }
  ]
}